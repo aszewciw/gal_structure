{
 "cells": [
  {
   "cell_type": "markdown",
   "metadata": {},
   "source": [
    "# This will be a mock MCMC chain in which calculations of $\\chi^2$ include non-diagonal terms from the covariance matrix.\n",
    "\n",
    "### The preparation of the data includes the following steps:\n",
    "* We create a mock galaxy based on a 2-disk model. The stars are placed into \"pointings\" to mimic the spectroscopic data taken from the SDSS SEGUE survey.\n",
    "* Each mock pointing contains the same number of stars as are in the corresponding (cleaned and prepared) SEGUE pointing.\n",
    "* 1000 such mocks are produced to get an estimate of the variance induced by random sampling.\n",
    "* In a separate file system, the raw and normalized pair counts, DD, were determined for each mock (in 152 pointings, each containing 12 radial bins).\n",
    "* We produce a single random sample for each pointing. This sample has 10\\* the number of stars as are in the mock.\n",
    "* We perform pair counting for this mock to get the quantity RR (in 152 pointings, each containing 12 radial bins).\n",
    "* We determine the measurements of $\\frac{DD}{RR}$ for our mock.\n",
    "* We determine the covariance matrix of $\\frac{DD}{RR}$ from 1000 mocks.\n",
    "* We produce a second set of random points (same number as first sample). This is to be used as the model in our MCMC chain. These points will be weighted by a normalized density corresponding to a particular set of parameters (varied at each step) from the two-disk model.\n",
    "* In order to not perform pair counting at every step in the MCMC chain, we pre-bin the pair indices of the model. This information will be loaded into the chain as described below.\n",
    "\n",
    "### In the MCMC chain itself, we do the following (note: just describing some unique differences from diagonal $\\chi^2$ calculations):\n",
    "* At each step, we choose a new set of parameters for the two disk model (5 parameters).\n",
    "* We weight our model stars according to a normalized density. This weighting depends only on a star's cylindrical (or galactocentric) Z and R values.\n",
    "* Using these weights, we calculate the quantity $\\frac{MM}{RR}$.\n",
    "    * MM is the weighted (by density) and normalized pair counts of the model stars.\n",
    "    * RR is the same random sample used in the calculation of $\\frac{DD}{RR}$ described above.\n",
    "* We next calculate the quantity $\\frac{DD}{RR} - {MM}{RR}$ for each bin in each pointing.\n",
    "* For each pointing, we calculate a contribution to $\\chi^2$: \n",
    "    * $\\chi_{i,j}^2 = (\\frac{DD_i}{RR_i} - \\frac{MM_i}{RR_i}) \\cdot (\\frac{DD_j}{RR_j} - \\frac{MM_j}{RR_j}) \\cdot c_{ij}^{-1}$\n",
    "        * (here, $c_{ij}$ is an element of the covariance matrix.\n",
    "        * i, j correspond to measurements in different radial bins.\n",
    "        * $\\chi^2$ for this pointing is the sum of this quantity across all radial bins.\n",
    "* To get the total $\\chi^2$ we independently sum up these contributions across all pointings.\n",
    "* We then proceed to compare $\\chi^2$ values for each step as one would in an MCMC.\n",
    "\n",
    "### Extra Notes:\n",
    "* No sigmas are estimated on the model or random points. It is somewhat difficult to determine these as they change at each step. They are also assumed (and measured in most cases) to be subdominant enough to warrant exclusion.\n"
   ]
  },
  {
   "cell_type": "code",
   "execution_count": null,
   "metadata": {
    "collapsed": true
   },
   "outputs": [],
   "source": []
  }
 ],
 "metadata": {
  "kernelspec": {
   "display_name": "Python 3",
   "language": "python",
   "name": "python3"
  },
  "language_info": {
   "codemirror_mode": {
    "name": "ipython",
    "version": 3
   },
   "file_extension": ".py",
   "mimetype": "text/x-python",
   "name": "python",
   "nbconvert_exporter": "python",
   "pygments_lexer": "ipython3",
   "version": "3.4.5"
  }
 },
 "nbformat": 4,
 "nbformat_minor": 0
}

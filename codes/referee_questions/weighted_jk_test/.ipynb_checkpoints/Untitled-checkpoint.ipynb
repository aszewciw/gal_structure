{
 "cells": [
  {
   "cell_type": "markdown",
   "metadata": {},
   "source": [
    "# A directory to test the weighted jackknife method of estimating errors.\n",
    "\n",
    "### More specifically, what is being tested is the claim that\n",
    "\n",
    "### $\\delta_{jk, DD_{weighted}} = DD \\cdot \\delta_{jk, DD_{unweighted}}$\n",
    "\n",
    "* Here, all DD measurements are normalized.\n",
    "* $\\delta_{jk, DD_{unweighted}}$ is the jackknife error obtained by using raw pair counting.\n",
    "* $\\delta_{jk, DD_{weighted}}$ can be obtained by performing the same jackknife resampling, but using density-weighted pair counts instead of raw pair counts.\n",
    "    * Strictly speaking, this is difficult to do in the MCMC chain, as it will differ for each set of parameters. This requires us to keep track of all pairs in each jackknife sample, re-weight them, and re-estimate the error. This is computationally expensive. Thus, if the above formula is true, we can use it as a shortcut."
   ]
  },
  {
   "cell_type": "code",
   "execution_count": null,
   "metadata": {
    "collapsed": true
   },
   "outputs": [],
   "source": []
  }
 ],
 "metadata": {
  "kernelspec": {
   "display_name": "Python 3",
   "language": "python",
   "name": "python3"
  },
  "language_info": {
   "codemirror_mode": {
    "name": "ipython",
    "version": 3
   },
   "file_extension": ".py",
   "mimetype": "text/x-python",
   "name": "python",
   "nbconvert_exporter": "python",
   "pygments_lexer": "ipython3",
   "version": "3.4.5"
  }
 },
 "nbformat": 4,
 "nbformat_minor": 0
}
